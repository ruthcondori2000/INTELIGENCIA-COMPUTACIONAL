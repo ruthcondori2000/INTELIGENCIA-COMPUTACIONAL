{
  "nbformat": 4,
  "nbformat_minor": 0,
  "metadata": {
    "colab": {
      "name": "Milagros Regresión Lineal Multivariable.ipynb",
      "provenance": [],
      "collapsed_sections": []
    },
    "kernelspec": {
      "name": "python3",
      "display_name": "Python 3"
    },
    "language_info": {
      "name": "python"
    }
  },
  "cells": [
    {
      "cell_type": "markdown",
      "source": [
        "# REGRESIÓN LINEAL MULTIVARIABLE\n",
        "\n",
        "**Obtejivo**\n",
        "Amplíe nuestras rutinas de modelo de regresión para admitir múltiples funciones\n",
        "\n",
        "*   Utilice NumPy np.dot para vectorizar sus implementaciones para mayor velocidad y simplicidad\n",
        "*   Reescriba las rutinas de predicción, costo y gradiente para admitir múltiples funciones\n",
        "\n"
      ],
      "metadata": {
        "id": "vw-A07yv-oGf"
      }
    },
    {
      "cell_type": "markdown",
      "source": [
        "#Bibliotecas\n",
        "En este laboratorio, haremos uso de:\n",
        "\n",
        "*   **NumPy**, una biblioteca popular para computación científica\n",
        "*   **Matplotlib**, una biblioteca popular para trazar datos\n",
        "\n",
        "\n"
      ],
      "metadata": {
        "id": "ZLGtnW3J_RVV"
      }
    },
    {
      "cell_type": "code",
      "source": [
        "import copy, math\n",
        "import numpy as np\n",
        "import matplotlib.pyplot as plt\n",
        "np.set_printoptions(precision=2)  # reduced display precision on numpy arrays\n",
        "\n",
        "import pandas as pd"
      ],
      "metadata": {
        "id": "EKSJeNNq_KfF"
      },
      "execution_count": null,
      "outputs": []
    },
    {
      "cell_type": "code",
      "source": [
        "import pandas as pd \n",
        "import io \n",
        "datos_nuevos = pd.read_excel(\"datos_normalizados.xlsx\")\n",
        "datos_nuevos"
      ],
      "metadata": {
        "id": "Mft3sATTyKiu",
        "colab": {
          "base_uri": "https://localhost:8080/",
          "height": 488
        },
        "outputId": "26c07f4b-1acc-43ea-fc7e-44437d5e348a"
      },
      "execution_count": null,
      "outputs": [
        {
          "output_type": "execute_result",
          "data": {
            "text/plain": [
              "          year     seats  km_driven      fuel  seller_type  transmission  \\\n",
              "0     0.047977 -0.440093   1.338389 -0.889557      0.27759      0.385135   \n",
              "1     0.047977 -0.440093   0.887458 -0.889557      0.27759      0.385135   \n",
              "2    -1.931485 -0.440093   1.241129  1.106115      0.27759      0.385135   \n",
              "3    -0.941754 -0.440093   1.011243 -0.889557      0.27759      0.385135   \n",
              "4    -1.684052 -0.440093   0.887458  1.106115      0.27759      0.385135   \n",
              "...        ...       ...        ...       ...          ...           ...   \n",
              "8123 -0.199456 -0.440093   0.710622  1.106115      0.27759      0.385135   \n",
              "8124 -1.684052 -0.440093   0.869775 -0.889557      0.27759      0.385135   \n",
              "8125 -1.189187 -0.440093   0.887458 -0.889557      0.27759      0.385135   \n",
              "8126 -0.199456 -0.440093  -0.792481 -0.889557      0.27759      0.385135   \n",
              "8127 -0.199456 -0.440093  -0.792481 -0.889557      0.27759      0.385135   \n",
              "\n",
              "         owner   mileage    engine  max_power  selling_price  \n",
              "0    -0.666598  0.999676 -0.423846  -0.035656      -0.233507  \n",
              "1     0.970540  0.431974  0.079180  -0.026374      -0.332731  \n",
              "2     2.607678 -0.432138  0.077168  -0.034398      -0.595675  \n",
              "3    -0.666598  0.899198 -0.126054  -0.030625      -0.512575  \n",
              "4    -0.666598 -0.834051 -0.323241  -0.031191      -0.630403  \n",
              "...        ...       ...       ...        ...            ...  \n",
              "8123 -0.666598 -0.231182 -0.526464  -0.032873      -0.394746  \n",
              "8124  0.151971 -0.658214  0.069120  -0.024336      -0.624202  \n",
              "8125 -0.666598 -0.030225 -0.423846  -0.035688      -0.317848  \n",
              "8126 -0.666598  1.042379 -0.126054  -0.036914      -0.431955  \n",
              "8127 -0.666598  1.042379 -0.126054  -0.036914      -0.431955  \n",
              "\n",
              "[8128 rows x 11 columns]"
            ],
            "text/html": [
              "\n",
              "  <div id=\"df-748a3821-a0dc-43bb-b341-5953639358c6\">\n",
              "    <div class=\"colab-df-container\">\n",
              "      <div>\n",
              "<style scoped>\n",
              "    .dataframe tbody tr th:only-of-type {\n",
              "        vertical-align: middle;\n",
              "    }\n",
              "\n",
              "    .dataframe tbody tr th {\n",
              "        vertical-align: top;\n",
              "    }\n",
              "\n",
              "    .dataframe thead th {\n",
              "        text-align: right;\n",
              "    }\n",
              "</style>\n",
              "<table border=\"1\" class=\"dataframe\">\n",
              "  <thead>\n",
              "    <tr style=\"text-align: right;\">\n",
              "      <th></th>\n",
              "      <th>year</th>\n",
              "      <th>seats</th>\n",
              "      <th>km_driven</th>\n",
              "      <th>fuel</th>\n",
              "      <th>seller_type</th>\n",
              "      <th>transmission</th>\n",
              "      <th>owner</th>\n",
              "      <th>mileage</th>\n",
              "      <th>engine</th>\n",
              "      <th>max_power</th>\n",
              "      <th>selling_price</th>\n",
              "    </tr>\n",
              "  </thead>\n",
              "  <tbody>\n",
              "    <tr>\n",
              "      <th>0</th>\n",
              "      <td>0.047977</td>\n",
              "      <td>-0.440093</td>\n",
              "      <td>1.338389</td>\n",
              "      <td>-0.889557</td>\n",
              "      <td>0.27759</td>\n",
              "      <td>0.385135</td>\n",
              "      <td>-0.666598</td>\n",
              "      <td>0.999676</td>\n",
              "      <td>-0.423846</td>\n",
              "      <td>-0.035656</td>\n",
              "      <td>-0.233507</td>\n",
              "    </tr>\n",
              "    <tr>\n",
              "      <th>1</th>\n",
              "      <td>0.047977</td>\n",
              "      <td>-0.440093</td>\n",
              "      <td>0.887458</td>\n",
              "      <td>-0.889557</td>\n",
              "      <td>0.27759</td>\n",
              "      <td>0.385135</td>\n",
              "      <td>0.970540</td>\n",
              "      <td>0.431974</td>\n",
              "      <td>0.079180</td>\n",
              "      <td>-0.026374</td>\n",
              "      <td>-0.332731</td>\n",
              "    </tr>\n",
              "    <tr>\n",
              "      <th>2</th>\n",
              "      <td>-1.931485</td>\n",
              "      <td>-0.440093</td>\n",
              "      <td>1.241129</td>\n",
              "      <td>1.106115</td>\n",
              "      <td>0.27759</td>\n",
              "      <td>0.385135</td>\n",
              "      <td>2.607678</td>\n",
              "      <td>-0.432138</td>\n",
              "      <td>0.077168</td>\n",
              "      <td>-0.034398</td>\n",
              "      <td>-0.595675</td>\n",
              "    </tr>\n",
              "    <tr>\n",
              "      <th>3</th>\n",
              "      <td>-0.941754</td>\n",
              "      <td>-0.440093</td>\n",
              "      <td>1.011243</td>\n",
              "      <td>-0.889557</td>\n",
              "      <td>0.27759</td>\n",
              "      <td>0.385135</td>\n",
              "      <td>-0.666598</td>\n",
              "      <td>0.899198</td>\n",
              "      <td>-0.126054</td>\n",
              "      <td>-0.030625</td>\n",
              "      <td>-0.512575</td>\n",
              "    </tr>\n",
              "    <tr>\n",
              "      <th>4</th>\n",
              "      <td>-1.684052</td>\n",
              "      <td>-0.440093</td>\n",
              "      <td>0.887458</td>\n",
              "      <td>1.106115</td>\n",
              "      <td>0.27759</td>\n",
              "      <td>0.385135</td>\n",
              "      <td>-0.666598</td>\n",
              "      <td>-0.834051</td>\n",
              "      <td>-0.323241</td>\n",
              "      <td>-0.031191</td>\n",
              "      <td>-0.630403</td>\n",
              "    </tr>\n",
              "    <tr>\n",
              "      <th>...</th>\n",
              "      <td>...</td>\n",
              "      <td>...</td>\n",
              "      <td>...</td>\n",
              "      <td>...</td>\n",
              "      <td>...</td>\n",
              "      <td>...</td>\n",
              "      <td>...</td>\n",
              "      <td>...</td>\n",
              "      <td>...</td>\n",
              "      <td>...</td>\n",
              "      <td>...</td>\n",
              "    </tr>\n",
              "    <tr>\n",
              "      <th>8123</th>\n",
              "      <td>-0.199456</td>\n",
              "      <td>-0.440093</td>\n",
              "      <td>0.710622</td>\n",
              "      <td>1.106115</td>\n",
              "      <td>0.27759</td>\n",
              "      <td>0.385135</td>\n",
              "      <td>-0.666598</td>\n",
              "      <td>-0.231182</td>\n",
              "      <td>-0.526464</td>\n",
              "      <td>-0.032873</td>\n",
              "      <td>-0.394746</td>\n",
              "    </tr>\n",
              "    <tr>\n",
              "      <th>8124</th>\n",
              "      <td>-1.684052</td>\n",
              "      <td>-0.440093</td>\n",
              "      <td>0.869775</td>\n",
              "      <td>-0.889557</td>\n",
              "      <td>0.27759</td>\n",
              "      <td>0.385135</td>\n",
              "      <td>0.151971</td>\n",
              "      <td>-0.658214</td>\n",
              "      <td>0.069120</td>\n",
              "      <td>-0.024336</td>\n",
              "      <td>-0.624202</td>\n",
              "    </tr>\n",
              "    <tr>\n",
              "      <th>8125</th>\n",
              "      <td>-1.189187</td>\n",
              "      <td>-0.440093</td>\n",
              "      <td>0.887458</td>\n",
              "      <td>-0.889557</td>\n",
              "      <td>0.27759</td>\n",
              "      <td>0.385135</td>\n",
              "      <td>-0.666598</td>\n",
              "      <td>-0.030225</td>\n",
              "      <td>-0.423846</td>\n",
              "      <td>-0.035688</td>\n",
              "      <td>-0.317848</td>\n",
              "    </tr>\n",
              "    <tr>\n",
              "      <th>8126</th>\n",
              "      <td>-0.199456</td>\n",
              "      <td>-0.440093</td>\n",
              "      <td>-0.792481</td>\n",
              "      <td>-0.889557</td>\n",
              "      <td>0.27759</td>\n",
              "      <td>0.385135</td>\n",
              "      <td>-0.666598</td>\n",
              "      <td>1.042379</td>\n",
              "      <td>-0.126054</td>\n",
              "      <td>-0.036914</td>\n",
              "      <td>-0.431955</td>\n",
              "    </tr>\n",
              "    <tr>\n",
              "      <th>8127</th>\n",
              "      <td>-0.199456</td>\n",
              "      <td>-0.440093</td>\n",
              "      <td>-0.792481</td>\n",
              "      <td>-0.889557</td>\n",
              "      <td>0.27759</td>\n",
              "      <td>0.385135</td>\n",
              "      <td>-0.666598</td>\n",
              "      <td>1.042379</td>\n",
              "      <td>-0.126054</td>\n",
              "      <td>-0.036914</td>\n",
              "      <td>-0.431955</td>\n",
              "    </tr>\n",
              "  </tbody>\n",
              "</table>\n",
              "<p>8128 rows × 11 columns</p>\n",
              "</div>\n",
              "      <button class=\"colab-df-convert\" onclick=\"convertToInteractive('df-748a3821-a0dc-43bb-b341-5953639358c6')\"\n",
              "              title=\"Convert this dataframe to an interactive table.\"\n",
              "              style=\"display:none;\">\n",
              "        \n",
              "  <svg xmlns=\"http://www.w3.org/2000/svg\" height=\"24px\"viewBox=\"0 0 24 24\"\n",
              "       width=\"24px\">\n",
              "    <path d=\"M0 0h24v24H0V0z\" fill=\"none\"/>\n",
              "    <path d=\"M18.56 5.44l.94 2.06.94-2.06 2.06-.94-2.06-.94-.94-2.06-.94 2.06-2.06.94zm-11 1L8.5 8.5l.94-2.06 2.06-.94-2.06-.94L8.5 2.5l-.94 2.06-2.06.94zm10 10l.94 2.06.94-2.06 2.06-.94-2.06-.94-.94-2.06-.94 2.06-2.06.94z\"/><path d=\"M17.41 7.96l-1.37-1.37c-.4-.4-.92-.59-1.43-.59-.52 0-1.04.2-1.43.59L10.3 9.45l-7.72 7.72c-.78.78-.78 2.05 0 2.83L4 21.41c.39.39.9.59 1.41.59.51 0 1.02-.2 1.41-.59l7.78-7.78 2.81-2.81c.8-.78.8-2.07 0-2.86zM5.41 20L4 18.59l7.72-7.72 1.47 1.35L5.41 20z\"/>\n",
              "  </svg>\n",
              "      </button>\n",
              "      \n",
              "  <style>\n",
              "    .colab-df-container {\n",
              "      display:flex;\n",
              "      flex-wrap:wrap;\n",
              "      gap: 12px;\n",
              "    }\n",
              "\n",
              "    .colab-df-convert {\n",
              "      background-color: #E8F0FE;\n",
              "      border: none;\n",
              "      border-radius: 50%;\n",
              "      cursor: pointer;\n",
              "      display: none;\n",
              "      fill: #1967D2;\n",
              "      height: 32px;\n",
              "      padding: 0 0 0 0;\n",
              "      width: 32px;\n",
              "    }\n",
              "\n",
              "    .colab-df-convert:hover {\n",
              "      background-color: #E2EBFA;\n",
              "      box-shadow: 0px 1px 2px rgba(60, 64, 67, 0.3), 0px 1px 3px 1px rgba(60, 64, 67, 0.15);\n",
              "      fill: #174EA6;\n",
              "    }\n",
              "\n",
              "    [theme=dark] .colab-df-convert {\n",
              "      background-color: #3B4455;\n",
              "      fill: #D2E3FC;\n",
              "    }\n",
              "\n",
              "    [theme=dark] .colab-df-convert:hover {\n",
              "      background-color: #434B5C;\n",
              "      box-shadow: 0px 1px 3px 1px rgba(0, 0, 0, 0.15);\n",
              "      filter: drop-shadow(0px 1px 2px rgba(0, 0, 0, 0.3));\n",
              "      fill: #FFFFFF;\n",
              "    }\n",
              "  </style>\n",
              "\n",
              "      <script>\n",
              "        const buttonEl =\n",
              "          document.querySelector('#df-748a3821-a0dc-43bb-b341-5953639358c6 button.colab-df-convert');\n",
              "        buttonEl.style.display =\n",
              "          google.colab.kernel.accessAllowed ? 'block' : 'none';\n",
              "\n",
              "        async function convertToInteractive(key) {\n",
              "          const element = document.querySelector('#df-748a3821-a0dc-43bb-b341-5953639358c6');\n",
              "          const dataTable =\n",
              "            await google.colab.kernel.invokeFunction('convertToInteractive',\n",
              "                                                     [key], {});\n",
              "          if (!dataTable) return;\n",
              "\n",
              "          const docLinkHtml = 'Like what you see? Visit the ' +\n",
              "            '<a target=\"_blank\" href=https://colab.research.google.com/notebooks/data_table.ipynb>data table notebook</a>'\n",
              "            + ' to learn more about interactive tables.';\n",
              "          element.innerHTML = '';\n",
              "          dataTable['output_type'] = 'display_data';\n",
              "          await google.colab.output.renderOutput(dataTable, element);\n",
              "          const docLink = document.createElement('div');\n",
              "          docLink.innerHTML = docLinkHtml;\n",
              "          element.appendChild(docLink);\n",
              "        }\n",
              "      </script>\n",
              "    </div>\n",
              "  </div>\n",
              "  "
            ]
          },
          "metadata": {},
          "execution_count": 69
        }
      ]
    },
    {
      "cell_type": "code",
      "source": [
        "X_train = datos_nuevos.iloc[:,:10]\n",
        "y_train = datos_nuevos[\"selling_price\"]"
      ],
      "metadata": {
        "id": "T_dafsYY53_i"
      },
      "execution_count": null,
      "outputs": []
    },
    {
      "cell_type": "code",
      "source": [
        "y_train"
      ],
      "metadata": {
        "colab": {
          "base_uri": "https://localhost:8080/"
        },
        "id": "G0njj6nJ58GX",
        "outputId": "9e1b22bb-f96f-4f61-d284-241a73482aea"
      },
      "execution_count": null,
      "outputs": [
        {
          "output_type": "execute_result",
          "data": {
            "text/plain": [
              "0      -0.233507\n",
              "1      -0.332731\n",
              "2      -0.595675\n",
              "3      -0.512575\n",
              "4      -0.630403\n",
              "          ...   \n",
              "8123   -0.394746\n",
              "8124   -0.624202\n",
              "8125   -0.317848\n",
              "8126   -0.431955\n",
              "8127   -0.431955\n",
              "Name: selling_price, Length: 8128, dtype: float64"
            ]
          },
          "metadata": {},
          "execution_count": 72
        }
      ]
    },
    {
      "cell_type": "code",
      "source": [
        "b_init = 785.1811367994083\n",
        "w_init = np.array([ 0.24251783, -0.2118112 , -0.13304738, -0.05846624, -0.15008277,\n",
        "       -0.32419281, -0.00862021,  0.00996006,  0.48120436, -0.01877944])\n",
        "\n",
        "print(f\"w_init shape: {w_init.shape}, b_init type: {type(b_init)}\")"
      ],
      "metadata": {
        "id": "XPHbLtC3Zjjw",
        "colab": {
          "base_uri": "https://localhost:8080/"
        },
        "outputId": "c87714c7-49cb-4a2c-a4f3-1a3aa0601e67"
      },
      "execution_count": null,
      "outputs": [
        {
          "output_type": "stream",
          "name": "stdout",
          "text": [
            "w_init shape: (10,), b_init type: <class 'float'>\n"
          ]
        }
      ]
    },
    {
      "cell_type": "markdown",
      "source": [
        "# 3. Modelo de Regresión Lineal con múltiples variables\n",
        "La predicción del modelo con múltiples variables viene dada por el modelo lineal:\n",
        "\n",
        "$$ f_{\\mathbf{w},b}(\\mathbf{x}) =  w_0x_0 + w_1x_1 +... + w_{n-1}x_{n-1} + b \\tag{1}$$\n",
        "o en la notación vectorial:\n",
        "$$ f_{\\mathbf{w},b}(\\mathbf{x}) = \\mathbf{w} \\cdot \\mathbf{x} + b  \\tag{2} $$ \n",
        "where $\\cdot$ is a vector **dot product(producto punto)**\n",
        "\n",
        "Para demostrar el producto punto, implementaremos la predicción usando (1) y (2)."
      ],
      "metadata": {
        "id": "lGceCmJa87Kb"
      }
    },
    {
      "cell_type": "markdown",
      "source": [
        ""
      ],
      "metadata": {
        "id": "D0qCxcvF7xxT"
      }
    },
    {
      "cell_type": "code",
      "source": [
        "# Predicción única elemento por elemento\n",
        "def predict_single_loop(x, w, b): \n",
        "    \"\"\"   \n",
        "    Args:\n",
        "      x (ndarray): Shape (n,) ejemplos con múltiples características\n",
        "      w (ndarray): Shape (n,) parámetro w del modelo  \n",
        "      b (scalar):  parámetro b del modelo    \n",
        "      \n",
        "    Returns:\n",
        "      p (scalar):  predicción\n",
        "    \"\"\"\n",
        "    n = x.shape[0]\n",
        "    p = 0\n",
        "    for i in range(n):\n",
        "        p_i = x[i] * w[i]  \n",
        "        p = p + p_i         \n",
        "    p = p + b               \n",
        "    return p "
      ],
      "metadata": {
        "id": "bj984ZQIhn0T"
      },
      "execution_count": null,
      "outputs": []
    },
    {
      "cell_type": "code",
      "source": [
        "# en forma vectorial\n",
        "def predict(x, w, b): \n",
        "    \"\"\"   \n",
        "    Args:\n",
        "      x (ndarray): Shape (n,) ejemplos con múltiples características\n",
        "      w (ndarray): Shape (n,) parámetro w del modelo  \n",
        "      b (scalar):  parámetro b del modelo    \n",
        "      \n",
        "    Returns:\n",
        "      p (scalar):  predicción\n",
        "    \"\"\"\n",
        "    p = np.dot(x, w) + b     \n",
        "    return p "
      ],
      "metadata": {
        "id": "t8jOdJ18-wg9"
      },
      "execution_count": null,
      "outputs": []
    },
    {
      "cell_type": "markdown",
      "source": [
        "# 4. Función Costo\n",
        "\n",
        "La ecuación para la función costo de múltiples variables $J(\\mathbf{w},b)$ is:\n",
        "$$J(\\mathbf{w},b) = \\frac{1}{2m} \\sum\\limits_{i = 0}^{m-1} (f_{\\mathbf{w},b}(\\mathbf{x}^{(i)}) - y^{(i)})^2 \\tag{3}$$ \n",
        "Donde:\n",
        "$$ f_{\\mathbf{w},b}(\\mathbf{x}^{(i)}) = \\mathbf{w} \\cdot \\mathbf{x}^{(i)} + b  \\tag{4} $$ \n",
        "\n"
      ],
      "metadata": {
        "id": "6zDu4J3lALkE"
      }
    },
    {
      "cell_type": "code",
      "source": [
        "def compute_cost(X, y, w, b): \n",
        "    \"\"\"\n",
        "    compute cost\n",
        "    Args:\n",
        "      X (ndarray (m,n)): Data, m ejemplos con n características\n",
        "      y (ndarray (m,)) : valores objetivo\n",
        "      w (ndarray (n,)) : parámetros w del modelo\n",
        "      b (scalar)       : parámetro b del modelo\n",
        "      \n",
        "    Returns:\n",
        "      cost (scalar): costo\n",
        "    \"\"\"\n",
        "    m = X.shape[0]\n",
        "    #print(\"X[\",1,\"]: \",X.iloc[1].values, \" - b: \",b)\n",
        "    cost = 0.0\n",
        "    for i in range(m):\n",
        "        \n",
        "        f_wb_i = np.dot(X.iloc[i].values, w) + b           #(n,)(n,) = scalar\n",
        "        cost = cost + (f_wb_i - y[i])**2       #scalar\n",
        "    cost = cost / (2 * m)                      #scalar    \n",
        "    return cost"
      ],
      "metadata": {
        "id": "4zYBPcvMA8vV"
      },
      "execution_count": null,
      "outputs": []
    },
    {
      "cell_type": "code",
      "source": [
        "# Calcule y muestre el costo utilizando nuestros parámetros óptimos preseleccionados.\n",
        "cost = compute_cost(X_train, y_train, w_init, b_init)\n",
        "print(f'Costo óptimo w : {cost}')"
      ],
      "metadata": {
        "colab": {
          "base_uri": "https://localhost:8080/"
        },
        "id": "HJdmF-CDBPP3",
        "outputId": "1ba052dd-894e-4a13-953e-00dc6b4c5bd2"
      },
      "execution_count": null,
      "outputs": [
        {
          "output_type": "stream",
          "name": "stdout",
          "text": [
            "Costo óptimo w : 308254.9170298809\n"
          ]
        }
      ]
    },
    {
      "cell_type": "markdown",
      "source": [
        "# 5. Gradiente Descendiente con múltiples variables\n",
        "\n",
        "$$\\begin{align*} \\text{repeat}&\\text{ until convergence:} \\; \\lbrace \\newline\\;\n",
        "& w_j = w_j -  \\alpha \\frac{\\partial J(\\mathbf{w},b)}{\\partial w_j} \\tag{5}  \\; & \\text{for j = 0..n-1}\\newline\n",
        "&b\\ \\ = b -  \\alpha \\frac{\\partial J(\\mathbf{w},b)}{\\partial b}  \\newline \\rbrace\n",
        "\\end{align*}$$\n",
        "\n",
        "donde, n es el número de características, parámetros $w_j$,  $b$, son actualizados simultáneamente simultaneously  \n",
        "\n",
        "$$\n",
        "\\begin{align}\n",
        "\\frac{\\partial J(\\mathbf{w},b)}{\\partial w_j}  &= \\frac{1}{m} \\sum\\limits_{i = 0}^{m-1} (f_{\\mathbf{w},b}(\\mathbf{x}^{(i)}) - y^{(i)})x_{j}^{(i)} \\tag{6}  \\\\\n",
        "\\frac{\\partial J(\\mathbf{w},b)}{\\partial b}  &= \\frac{1}{m} \\sum\\limits_{i = 0}^{m-1} (f_{\\mathbf{w},b}(\\mathbf{x}^{(i)}) - y^{(i)}) \\tag{7}\n",
        "\\end{align}\n",
        "$$\n",
        "* m es el número de ejemplos de entrenamiento en el conjunto de datos.\n",
        "\n",
        "    \n",
        "*  $f_{\\mathbf{w},b}(\\mathbf{x}^{(i)})$ es la predicción del modelo,  $y^{(i)}$ es la variable objetivo\n"
      ],
      "metadata": {
        "id": "o4svMjI_DBBc"
      }
    },
    {
      "cell_type": "markdown",
      "source": [
        "## 5.1 Compute Gradient with Multiple Variables\n",
        "Se implementará la ecuación (6) y (7).\n",
        "- bucle externo sobre todos los m ejemplos. \n",
        "    - $\\frac{\\partial J(\\mathbf{w},b)}{\\partial b}$ para el ejemplo se puede calcular directamente y acumular\n",
        "    - en un segundo bucle sobre todas las n características:\n",
        "        - $\\frac{\\partial J(\\mathbf{w},b)}{\\partial w_j}$ es calculado para cada $w_j$."
      ],
      "metadata": {
        "id": "LX67ECuBDKfj"
      }
    },
    {
      "cell_type": "code",
      "source": [
        "def compute_gradient(X, y, w, b): \n",
        "    \"\"\"\n",
        "    Calcula la gradiente para la regresión lineal\n",
        "    Args:\n",
        "      X (ndarray (m,n)): Data, m ejemplos con n características\n",
        "      y (ndarray (m,)) : valores objetivo\n",
        "      w (ndarray (n,)) : parámetros w del modelo \n",
        "      b (scalar)       : parámetro b del modelo\n",
        "      \n",
        "    Returns:\n",
        "      dj_dw (ndarray (n,)): La gradiende del costo del parámetro w. \n",
        "      dj_db (scalar):       La gradiende del costo del parámetro b. \n",
        "    \"\"\"\n",
        "    m,n = X.shape           #(número de ejemplos, número de características)\n",
        "    dj_dw = np.zeros((n,))\n",
        "    dj_db = 0.\n",
        "\n",
        "    for i in range(m):                             \n",
        "        err = (np.dot(X.iloc[i].values, w) + b) - y[i] \n",
        "        for j in range(n):                         \n",
        "            dj_dw[j] = dj_dw[j] + err * X.iloc[i, j]\n",
        "            #print(\"dj_dw: \",dj_dw)\n",
        "        dj_db = dj_db + err\n",
        "        #print(\"dj_db: \",dj_db)\n",
        "    dj_dw = dj_dw / m                                \n",
        "    dj_db = dj_db / m     \n",
        "\n",
        "    return dj_db, dj_dw"
      ],
      "metadata": {
        "id": "Ayv0wAciFK7Q"
      },
      "execution_count": null,
      "outputs": []
    },
    {
      "cell_type": "code",
      "source": [
        "#Calcula y muestra la gradiente\n",
        "tmp_dj_db, tmp_dj_dw = compute_gradient(X_train, y_train, w_init, b_init)\n",
        "print(f'dj_db at initial w,b: {tmp_dj_db:0.15f}')\n",
        "print(f'dj_dw at initial w,b: \\n {tmp_dj_dw}')"
      ],
      "metadata": {
        "colab": {
          "base_uri": "https://localhost:8080/"
        },
        "id": "IwAaxFeFGZI4",
        "outputId": "3063b696-65fd-4963-ed81-1e442886c1df"
      },
      "execution_count": null,
      "outputs": [
        {
          "output_type": "stream",
          "name": "stdout",
          "text": [
            "dj_db at initial w,b: 785.181136799411661\n",
            "dj_dw at initial w,b: \n",
            " [ 0.   -0.01 -0.03 -0.01 -0.   -0.   -0.    0.    0.    0.  ]\n"
          ]
        }
      ]
    },
    {
      "cell_type": "markdown",
      "source": [
        "## 5.2 Gradiente Descenndiente con múltiples variables\n",
        "Se impementarará la ecuación (5) de arriba."
      ],
      "metadata": {
        "id": "yvymuXxqG4rn"
      }
    },
    {
      "cell_type": "code",
      "source": [
        "def gradient_descent(X, y, w_in, b_in, cost_function, gradient_function, alpha, num_iters): \n",
        "    \"\"\"\n",
        "   Realiza descenso de gradiente por lotes para aprender w y b. \n",
        "   Actualiza w y b tomando num_iters pasos de gradiente con tasa de aprendizaje alfa\n",
        "    \n",
        "    Args:\n",
        "      X (ndarray (m,n))   : Data, m ejemplos con n características\n",
        "      y (ndarray (m,))    : valores objetivo\n",
        "      w_in (ndarray (n,)) : valor inicial del parámetro w\n",
        "      b_in (scalar)       : valor inicial del parámetro b\n",
        "      cost_function       : función costo\n",
        "      gradient_function   : función que calcula la gradiente\n",
        "      alpha (float)       : tasa de aprendizaje alfa\n",
        "      num_iters (int)     : número de iteraciones para retornar la gradiente por descenso\n",
        "      \n",
        "    Returns:\n",
        "      w (ndarray (n,)) : valor final del parámetro w\n",
        "      b (scalar)       : valor final del parámetro b\n",
        "      \"\"\"\n",
        "    \n",
        "    # Un array que almacena el costo J y los pesos w's de cada iteración para graficar\n",
        "    J_history = []\n",
        "    w = copy.deepcopy(w_in)  #evita modificar w global dentro de la función\n",
        "    b = b_in\n",
        "    \n",
        "    for i in range(num_iters):\n",
        "\n",
        "        # Calculla la gradiente \n",
        "        dj_db,dj_dw = gradient_function(X, y, w, b)  \n",
        "\n",
        "        # actualiza los parámetros utilizando w, b, alpha y la gradiente\n",
        "        w = w - alpha * dj_dw               \n",
        "        b = b - alpha * dj_db               \n",
        "      \n",
        "        # guarda el costo J en cada iteración\n",
        "        if i<100000:      # previene el agotamiento de recursos\n",
        "            J_history.append( cost_function(X, y, w, b))\n",
        "\n",
        "             # Imprime el costo  cada intervalo de 10 0\n",
        "        if i% math.ceil(num_iters / 10) == 0:\n",
        "            print(f\"Iteration {i:4d}: Cost {J_history[-1]:8.15f}   \")\n",
        "        \n",
        "    return w, b, J_history #retorna los valores finales de  w,b y historial de J para plotear"
      ],
      "metadata": {
        "id": "nW02KPgqHGbK"
      },
      "execution_count": null,
      "outputs": []
    },
    {
      "cell_type": "markdown",
      "source": [
        "# 6. Probando el modelo"
      ],
      "metadata": {
        "id": "8lAXxiw7Kp5_"
      }
    },
    {
      "cell_type": "code",
      "source": [
        "# inicializando parámetros\n",
        "initial_w = np.zeros_like(w_init)\n",
        "initial_b = 0.\n",
        "# configuración de parámetros para el algoritmo de la gradiente por descenso\n",
        "iterations = 100  # LO HICE CON 100 PORQUE CON 1000 DEMORA MUCHO MI LAPTOP :c\n",
        "alpha = 5.0e-7\n",
        "# ejecutar el algoritmo de la gradiente descendiente\n",
        "w_final, b_final, J_hist = gradient_descent(X_train, y_train, initial_w, initial_b,\n",
        "                                                    compute_cost, compute_gradient, \n",
        "                                                    alpha, iterations)"
      ],
      "metadata": {
        "colab": {
          "base_uri": "https://localhost:8080/"
        },
        "id": "WQCgIFt4Kg4W",
        "outputId": "abff2a30-c313-4f45-ab15-11659470bf4e"
      },
      "execution_count": null,
      "outputs": [
        {
          "output_type": "stream",
          "name": "stdout",
          "text": [
            "Iteration    0: Cost 0.499937986693401   \n",
            "Iteration   10: Cost 0.499933011158565   \n",
            "Iteration   20: Cost 0.499928035716214   \n",
            "Iteration   30: Cost 0.499923060366345   \n",
            "Iteration   40: Cost 0.499918085108953   \n",
            "Iteration   50: Cost 0.499913109944045   \n",
            "Iteration   60: Cost 0.499908134871609   \n",
            "Iteration   70: Cost 0.499903159891646   \n",
            "Iteration   80: Cost 0.499898185004159   \n",
            "Iteration   90: Cost 0.499893210209139   \n"
          ]
        }
      ]
    },
    {
      "cell_type": "code",
      "source": [
        "b_final"
      ],
      "metadata": {
        "colab": {
          "base_uri": "https://localhost:8080/"
        },
        "id": "7IuMb7w07PQp",
        "outputId": "707c2ffe-53e9-476a-ae0b-2d47ed8cf094"
      },
      "execution_count": null,
      "outputs": [
        {
          "output_type": "execute_result",
          "data": {
            "text/plain": [
              "-1.2537406589723083e-21"
            ]
          },
          "metadata": {},
          "execution_count": 89
        }
      ]
    },
    {
      "cell_type": "markdown",
      "source": [
        "## 6.1 Predicción\n",
        "Una vez construido el modelo de regresión lineal utilizando los valores de w y b podemos predecir el precio de una casa con 1200 pies cuadrados, 3 habitaciones, 1 piso, 40 años."
      ],
      "metadata": {
        "id": "bzZFCTXRLPkv"
      }
    },
    {
      "cell_type": "code",
      "source": [
        "pred = predict([[0.047977, -0.440093, 1.338389, -0.889557, 0.27759, 0.385135, -0.666598, 0.999676, -0.423846, -0.035656]] \n",
        "                       , w_final, b_final)"
      ],
      "metadata": {
        "id": "P-gBwP6LLfS3"
      },
      "execution_count": null,
      "outputs": []
    },
    {
      "cell_type": "code",
      "source": [
        "print(\"PREDICCION: \", pred)"
      ],
      "metadata": {
        "colab": {
          "base_uri": "https://localhost:8080/"
        },
        "id": "LrX21DFGAMNj",
        "outputId": "198c34fa-e938-44d5-c658-697f93617f5f"
      },
      "execution_count": null,
      "outputs": [
        {
          "output_type": "stream",
          "name": "stdout",
          "text": [
            "PREDICCION:  [-3.06e-05]\n"
          ]
        }
      ]
    },
    {
      "cell_type": "code",
      "source": [
        "print(\"PREDICCION: \", pred*10000)"
      ],
      "metadata": {
        "colab": {
          "base_uri": "https://localhost:8080/"
        },
        "id": "6-1WysHnAVYR",
        "outputId": "d04b32e7-f860-467a-9107-3f8631df7391"
      },
      "execution_count": null,
      "outputs": [
        {
          "output_type": "stream",
          "name": "stdout",
          "text": [
            "PREDICCION:  [-0.31]\n"
          ]
        }
      ]
    },
    {
      "cell_type": "markdown",
      "source": [
        "# 7. Ploteando"
      ],
      "metadata": {
        "id": "ETKWpqIeMYoU"
      }
    },
    {
      "cell_type": "code",
      "source": [
        "fig, (ax1, ax2) = plt.subplots(1, 2, constrained_layout=True, figsize=(12, 4))\n",
        "ax1.plot(J_hist)\n",
        "ax2.plot(100 + np.arange(len(J_hist[100:])), J_hist[100:])\n",
        "ax1.set_title(\"Cost vs. iteration\");  ax2.set_title(\"Cost vs. iteration (tail)\")\n",
        "ax1.set_ylabel('Cost')             ;  ax2.set_ylabel('Cost') \n",
        "ax1.set_xlabel('iteration step')   ;  ax2.set_xlabel('iteration step') \n",
        "plt.show()"
      ],
      "metadata": {
        "colab": {
          "base_uri": "https://localhost:8080/",
          "height": 313
        },
        "id": "IkDtYhiSMYGN",
        "outputId": "13ee9a9c-8516-41a5-c373-896f197c671c"
      },
      "execution_count": null,
      "outputs": [
        {
          "output_type": "display_data",
          "data": {
            "text/plain": [
              "<Figure size 864x288 with 2 Axes>"
            ],
            "image/png": "[encoded data removed]"
          },
          "metadata": {
            "needs_background": "light"
          }
        }
      ]
    },
    {
      "cell_type": "markdown",
      "source": [
        "utilizar metodo de escalamiento ::.. presentar como un informe describir los parametros y el por que estan utilizando...... luego utilizar learm \n"
      ],
      "metadata": {
        "id": "c3xl2YMkJgzd"
      }
    },
    {
      "cell_type": "code",
      "source": [
        ""
      ],
      "metadata": {
        "id": "aTgZPkaSKCWV"
      },
      "execution_count": null,
      "outputs": []
    }
  ]
}